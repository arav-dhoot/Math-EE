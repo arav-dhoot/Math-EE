{
 "cells": [
  {
   "cell_type": "code",
   "execution_count": null,
   "metadata": {},
   "outputs": [],
   "source": [
    "import numpy as np\n",
    "from skimage.io import imread, imsave\n",
    "from skimage.util import img_as_ubyte\n",
    "from skimage import img_as_float\n",
    "import os\n",
    "import csv"
   ]
  },
  {
   "cell_type": "code",
   "execution_count": null,
   "metadata": {},
   "outputs": [],
   "source": [
    "def svd_compress(image, k):\n",
    "    im_f = img_as_float(image)\n",
    "    U, s, Vt = np.linalg.svd(im_f, full_matrices=False)\n",
    "    U_reduced = U[:, :k]\n",
    "    s_reduced = s[:k]\n",
    "    Vt_reduced = Vt[:k, :]\n",
    "    \n",
    "    return U_reduced, s_reduced, Vt_reduced\n",
    "\n",
    "def svd_decompress(U, s, Vt):\n",
    "    im_reconstructed = np.dot(U, np.dot(np.diag(s), Vt))\n",
    "    im_reconstructed_normalized = (im_reconstructed - im_reconstructed.min()) / (im_reconstructed.max() - im_reconstructed.min())\n",
    "    im_reconstructed_ubyte = img_as_ubyte(im_reconstructed_normalized)\n",
    "    return im_reconstructed_ubyte\n",
    "\n",
    "def format_size(size_in_bytes):\n",
    "    for unit in ['B', 'KB', 'MB', 'GB', 'TB']:\n",
    "        if size_in_bytes < 1024.0:\n",
    "            break\n",
    "        size_in_bytes /= 1024.0\n",
    "    return f\"{size_in_bytes:.2f} {unit}\"\n",
    "\n",
    "def mean_squared_error(original_image, decompressed_image):\n",
    "    if original_image.shape != decompressed_image.shape:\n",
    "        raise ValueError(\"Both images must have the same shape for MSE calculation.\")\n",
    "    mse = np.mean((original_image - decompressed_image) ** 2)\n",
    "    return mse\n",
    "\n",
    "def csv_write(file_path, adjusted_list, mean_score_list):\n",
    "    csv_file_path = file_path  \n",
    "    with open(csv_file_path, 'w', newline='') as csv_file:\n",
    "        csv_writer = csv.writer(csv_file)\n",
    "        for k, size_dct in enumerate(adjusted_list):\n",
    "            csv_writer.writerow([k+5, size_dct, mean_score_list[k]])"
   ]
  },
  {
   "cell_type": "code",
   "execution_count": null,
   "metadata": {},
   "outputs": [],
   "source": [
    "image_path = ''"
   ]
  },
  {
   "cell_type": "code",
   "execution_count": null,
   "metadata": {},
   "outputs": [],
   "source": [
    "mean_score_svd = list()\n",
    "compress_size_svd = list()\n",
    "image = imread(image_path)\n",
    "original_size = format_size(os.path.getsize(image_path))\n",
    "for k_value in range(5, 205):\n",
    "    U_reduced, s_reduced, Vt_reduced = svd_compress(image, k=k_value)\n",
    "    image_reconstructed = svd_decompress(U_reduced, s_reduced, Vt_reduced)\n",
    "    imsave(f'svd_compressed_{k_value}.jpg', image_reconstructed)\n",
    "    compressed_size = format_size(os.path.getsize(f'svd_compressed_{k_value}.jpg'))\n",
    "    mse_score = mean_squared_error(img_as_float(image), img_as_float(image_reconstructed))\n",
    "    print(f\"K-Value—{k_value} || Compressed Size-{compressed_size} || Mean Score—{mse_score}\")\n",
    "    mean_score_svd.append(mse_score)\n",
    "    compress_size_svd.append(compressed_size)"
   ]
  },
  {
   "cell_type": "code",
   "execution_count": null,
   "metadata": {},
   "outputs": [],
   "source": [
    "adjusted_svd = [float(value.split(' ')[0]) for value in compress_size_svd]\n",
    "csv_write('dct.ipynb', adjusted_svd, mean_score_svd)"
   ]
  }
 ],
 "metadata": {
  "language_info": {
   "name": "python"
  }
 },
 "nbformat": 4,
 "nbformat_minor": 2
}
