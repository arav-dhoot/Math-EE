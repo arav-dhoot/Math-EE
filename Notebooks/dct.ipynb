{
 "cells": [
  {
   "cell_type": "code",
   "execution_count": null,
   "metadata": {},
   "outputs": [],
   "source": [
    "import numpy as np\n",
    "import scipy.fftpack as fftpack\n",
    "from skimage.io import imread, imsave\n",
    "from skimage.util import img_as_ubyte\n",
    "from skimage import img_as_float\n",
    "from scipy.fftpack import idct\n",
    "import os\n",
    "import csv"
   ]
  },
  {
   "cell_type": "code",
   "execution_count": null,
   "metadata": {},
   "outputs": [],
   "source": [
    "def dct2(a):\n",
    "    return fftpack.dct(fftpack.dct(a.T, norm='ortho').T, norm='ortho')\n",
    "\n",
    "def idct2(a):\n",
    "    return fftpack.idct(fftpack.idct(a.T, norm='ortho').T, norm='ortho')\n",
    "\n",
    "def dct_compress(image, k_value):\n",
    "    im_f = img_as_float(image)\n",
    "    im_dct = dct2(im_f)\n",
    "    for i in range(0, im_dct.shape[0], 8):\n",
    "        for j in range(0, im_dct.shape[1], 8):\n",
    "            im_dct[i:i+8, j:j+8] = keep_top_k(im_dct[i:i+8, j:j+8], k_value)\n",
    "    \n",
    "    return im_dct\n",
    "\n",
    "def keep_top_k(matrix, k):\n",
    "    flattened = matrix.flatten()\n",
    "    sorted_indices = np.argsort(np.abs(flattened))[::-1]\n",
    "    flattened[sorted_indices[k:]] = 0\n",
    "    return flattened.reshape(matrix.shape)\n",
    "\n",
    "def dct_decompress(dct_compressed):\n",
    "    im_reconstructed = idct(idct(dct_compressed, axis=0, norm='ortho'), axis=1, norm='ortho')\n",
    "    im_reconstructed_normalized = (im_reconstructed - im_reconstructed.min()) / (im_reconstructed.max() - im_reconstructed.min())\n",
    "    im_reconstructed_ubyte = img_as_ubyte(im_reconstructed_normalized)\n",
    "    return im_reconstructed_ubyte\n",
    "\n",
    "\n",
    "def format_size(size_in_bytes):\n",
    "    for unit in ['B', 'KB', 'MB', 'GB', 'TB']:\n",
    "        if size_in_bytes < 1024.0:\n",
    "            break\n",
    "        size_in_bytes /= 1024.0\n",
    "    return f\"{size_in_bytes:.2f} {unit}\"\n",
    "\n",
    "def mean_squared_error(original_image, decompressed_image):\n",
    "    if original_image.shape != decompressed_image.shape:\n",
    "        raise ValueError(\"Both images must have the same shape for MSE calculation.\")\n",
    "    mse = np.mean((original_image - decompressed_image) ** 2)\n",
    "    return mse\n",
    "\n",
    "def csv_write(file_path, adjusted_list, mean_score_list):\n",
    "    csv_file_path = file_path  \n",
    "    with open(csv_file_path, 'w', newline='') as csv_file:\n",
    "        csv_writer = csv.writer(csv_file)\n",
    "        for k, size_dct in enumerate(adjusted_list):\n",
    "            csv_writer.writerow([k+1, size_dct, mean_score_list[k]])"
   ]
  },
  {
   "cell_type": "code",
   "execution_count": null,
   "metadata": {},
   "outputs": [],
   "source": [
    "image_path = '/Users/aravdhoot/Math-EE/ct_image_bw.png'"
   ]
  },
  {
   "cell_type": "code",
   "execution_count": null,
   "metadata": {},
   "outputs": [],
   "source": [
    "mean_score_dct = list()\n",
    "compress_size_dct = list()\n",
    "image = imread(image_path)\n",
    "original_size = format_size(os.path.getsize(image_path))\n",
    "print(f\"Original Size—{original_size}\")\n",
    "for k_value in range(1, 64): \n",
    "    dct_compressed = dct_compress(image, k_value=k_value)\n",
    "    image_reconstructed = dct_decompress(dct_compressed)\n",
    "    imsave(f'dct_compressed_{k_value}.jpg', image_reconstructed)\n",
    "    compressed_size = format_size(os.path.getsize(f'dct_compressed_{k_value}.jpg'))\n",
    "    print(image_reconstructed.shape)\n",
    "    mse_score = mean_squared_error(img_as_float(image), img_as_float(image_reconstructed))\n",
    "    print(f\"K-Value—{k_value} || Compressed Size-{compressed_size} || Mean Score—{mse_score}\")\n",
    "    mean_score_dct.append(mse_score)\n",
    "    compress_size_dct.append(compressed_size)"
   ]
  },
  {
   "cell_type": "code",
   "execution_count": null,
   "metadata": {},
   "outputs": [],
   "source": [
    "adjusted_dct = [float(value.split(' ')[0]) for value in compress_size_dct]\n",
    "csv_write('dct.ipynb', adjusted_dct, mean_score_dct)"
   ]
  }
 ],
 "metadata": {
  "kernelspec": {
   "display_name": "Python 3",
   "language": "python",
   "name": "python3"
  },
  "language_info": {
   "codemirror_mode": {
    "name": "ipython",
    "version": 3
   },
   "file_extension": ".py",
   "mimetype": "text/x-python",
   "name": "python",
   "nbconvert_exporter": "python",
   "pygments_lexer": "ipython3",
   "version": "3.9.16"
  }
 },
 "nbformat": 4,
 "nbformat_minor": 2
}
